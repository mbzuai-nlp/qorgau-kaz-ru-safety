{
 "cells": [
  {
   "cell_type": "markdown",
   "id": "a17e06a1-9a2c-4375-8d44-95cec3b26de7",
   "metadata": {},
   "source": [
    "# Evaluation Data Upload Guide\n",
    "\n",
    "This notebook demonstrates how to upload and prepare data for evaluation."
   ]
  },
  {
   "cell_type": "markdown",
   "id": "fb73863e-57f4-4ca6-8ba4-ec93c58ced16",
   "metadata": {},
   "source": [
    "## 1. Upload Data File\n",
    "\n",
    "Upload a  file containing model generations for evaluation."
   ]
  },
  {
   "cell_type": "code",
   "execution_count": 1,
   "id": "ec0916b4-34a8-4b7f-bd15-9f210c35a141",
   "metadata": {},
   "outputs": [],
   "source": [
    "import os\n",
    "import pandas as pd\n",
    "\n",
    "df_ru = pd.read_excel(\"./ru_kaz_data/ru_kz_15_model_responses.xlsx\", sheet_name = \"Ru-response\")\n",
    "df_kz = pd.read_excel(\"./ru_kaz_data/ru_kz_15_model_responses.xlsx\", sheet_name = \"Kz-response\")"
   ]
  },
  {
   "cell_type": "markdown",
   "id": "706cea24-89ef-4451-a23b-731d57fd5b5a",
   "metadata": {},
   "source": [
    "## 2. Construct Evaluation Messages\n",
    "\n",
    "Build structured messages from the dataset to be passed into the evaluation model."
   ]
  },
  {
   "cell_type": "code",
   "execution_count": null,
   "id": "d6add483-d73e-4f18-889a-1e3019b65015",
   "metadata": {},
   "outputs": [],
   "source": [
    "from notebooks.evaluate_binary_safety import construct_kz_message, construct_ru_message"
   ]
  },
  {
   "cell_type": "code",
   "execution_count": 3,
   "id": "0e35a959-e007-4a08-b297-ef9e78b4cf66",
   "metadata": {},
   "outputs": [],
   "source": [
    "# exaples of using these two functions to construct messages input into openai\n",
    "messages, risk_ids = construct_kz_message(df_kz, risk_type_key = \"risk_area\", question_key = \"question\", \n",
    "                                          response_key = \"llama3_3p1_8b_extend25p_3-1-3_CL_RT_en_IFT3\")\n",
    "\n",
    "messages, risk_ids = construct_kz_message(df_kz, risk_type_key = \"risk_area\", question_key = \"question\", \n",
    "                                          response_key = \"LLama_3.1_KazLLM_1.0_70B\")\n",
    "\n",
    "\n",
    "messages, risk_ids, gold_labels = construct_ru_message(df_ru, risk_type_key = \"risk_area\", question_key = \"question\", \n",
    "                                                    response_key = \"llama3_3p1_8b_extend25p_3-1-3_CL_RT_en_IFT3\")\n",
    "\n",
    "messages, risk_ids, gold_labels = construct_ru_message(df_ru, risk_type_key = \"risk_area\", question_key = \"question\", \n",
    "                                                    response_key = \"LLama_3.1_KazLLM_1.0_70B\")"
   ]
  },
  {
   "cell_type": "markdown",
   "id": "d568f9e4-4ae9-4817-95eb-11db87bf320b",
   "metadata": {},
   "source": [
    "## 3. Openai Batch Input"
   ]
  },
  {
   "cell_type": "markdown",
   "id": "e9065383-1dfb-4b75-b991-2de5a52af67c",
   "metadata": {},
   "source": [
    "#### 1. Prepare Your Batch File"
   ]
  },
  {
   "cell_type": "code",
   "execution_count": null,
   "id": "a6c76b48-d6fd-41fe-a3d6-4f0c6aaad895",
   "metadata": {},
   "outputs": [],
   "source": [
    "from notebooks.evaluate_binary_safety import generate_batch_request"
   ]
  },
  {
   "cell_type": "code",
   "execution_count": 9,
   "id": "a5114d74-060c-42e9-afc3-faec06e9a589",
   "metadata": {},
   "outputs": [
    {
     "name": "stdout",
     "output_type": "stream",
     "text": [
      "4383\n"
     ]
    }
   ],
   "source": [
    "# Construct messages for the Russian responses\n",
    "messages, risk_ids, gold_labels = construct_ru_message(df_ru, risk_type_key = \"risk_area\", question_key = \"question\", \n",
    "                                                    response_key = \"gpt4o_response\")\n",
    "# Select a column to evaluate\n",
    "data = generate_batch_request(messages, savedir = \"./ru_kaz_data/eval_results/new\", \n",
    "                              dataset_name = \"gpt4o_response\", model=\"gpt-4o\")"
   ]
  },
  {
   "cell_type": "code",
   "execution_count": 10,
   "id": "062639ee-574e-4e58-9661-4023ebae19c0",
   "metadata": {},
   "outputs": [
    {
     "name": "stdout",
     "output_type": "stream",
     "text": [
      "3786\n"
     ]
    }
   ],
   "source": [
    "# Construct messages for the Kazakh responses\n",
    "\n",
    "messages, risk_ids = construct_kz_message(df_kz, risk_type_key = \"risk_area\", question_key = \"question\", \n",
    "                                          response_key = \"gpt4o_response\")\n",
    "# Select a column to evaluate\n",
    "data = generate_batch_request(messages, savedir = \"./ru_kaz_data/eval_results/new\", \n",
    "                              dataset_name = \"gpt4o_response\", model=\"gpt-4o\")"
   ]
  },
  {
   "cell_type": "code",
   "execution_count": null,
   "id": "8dee6d40-24cb-4530-99a9-48e9b65c87c6",
   "metadata": {},
   "outputs": [],
   "source": [
    "from openai import OpenAI\n",
    "key_path = \"./openaikey.txt\"\n",
    "with open(key_path, 'r') as f:\n",
    "    api_key = f.readline()\n",
    "client = OpenAI(api_key = api_key.strip())"
   ]
  },
  {
   "cell_type": "code",
   "execution_count": null,
   "id": "719342bc-529f-474e-a8a1-77e99aa9d0b6",
   "metadata": {},
   "outputs": [],
   "source": [
    "files = os.listdir(\"./ru_kaz_data/eval_results/new\")\n",
    "\n",
    "for file in files:\n",
    "    print(file)\n",
    "    # upload model responses\n",
    "    input_file = os.path.join(\"./ru_kaz_data/eval_results/new\", file)\n",
    "    \n",
    "    batch_input_file = client.files.create(\n",
    "      file=open(input_file, \"rb\"),\n",
    "      purpose=\"batch\"\n",
    "    )\n",
    "    \n",
    "    batch = client.batches.create(\n",
    "        input_file_id=batch_input_file.id,\n",
    "        endpoint=\"/v1/chat/completions\",\n",
    "        completion_window=\"24h\",\n",
    "        metadata={\n",
    "          \"description\": \"nightly eval job\"\n",
    "        }\n",
    "    )\n",
    "    \n",
    "    batch_info = client.batches.retrieve(batch.id)\n",
    "    print(batch_info)"
   ]
  },
  {
   "cell_type": "markdown",
   "id": "d236a2df-e519-4915-809a-b481bb01a9c7",
   "metadata": {},
   "source": [
    "#### 2. Retrieve the Results"
   ]
  },
  {
   "cell_type": "code",
   "execution_count": null,
   "id": "76011163-57e5-4079-aaaa-a016b944ab9b",
   "metadata": {},
   "outputs": [],
   "source": [
    "client.batches.list(limit=3).to_dict()"
   ]
  },
  {
   "cell_type": "code",
   "execution_count": null,
   "id": "1488897a-6043-47e7-b372-010be83d0d24",
   "metadata": {},
   "outputs": [],
   "source": [
    "content = client.files.content('YOUR_FILE_ID_HERE')  # replace with your file ID\n",
    "content.write_to_file(\"./ru_kaz_data/eval_results/new/YOUR_MODEL_RU_gpt-4o_output.jsonl\")"
   ]
  }
 ],
 "metadata": {
  "kernelspec": {
   "display_name": "webagent",
   "language": "python",
   "name": "python3"
  },
  "language_info": {
   "codemirror_mode": {
    "name": "ipython",
    "version": 3
   },
   "file_extension": ".py",
   "mimetype": "text/x-python",
   "name": "python",
   "nbconvert_exporter": "python",
   "pygments_lexer": "ipython3",
   "version": "3.11.0"
  }
 },
 "nbformat": 4,
 "nbformat_minor": 5
}
